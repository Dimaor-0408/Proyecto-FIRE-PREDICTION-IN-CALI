{
  "nbformat": 4,
  "nbformat_minor": 0,
  "metadata": {
    "colab": {
      "provenance": [],
      "collapsed_sections": [],
      "include_colab_link": true
    },
    "kernelspec": {
      "name": "python3",
      "display_name": "Python 3"
    },
    "language_info": {
      "name": "python"
    }
  },
  "cells": [
    {
      "cell_type": "markdown",
      "metadata": {
        "id": "view-in-github",
        "colab_type": "text"
      },
      "source": [
        "<a href=\"https://colab.research.google.com/github/maria-clavijo/Proyecto-FIRE-PREDICTION-IN-CALI/blob/main/PROYECTO_2_.ipynb\" target=\"_parent\"><img src=\"https://colab.research.google.com/assets/colab-badge.svg\" alt=\"Open In Colab\"/></a>"
      ]
    },
    {
      "cell_type": "markdown",
      "source": [
        "# Proyecto Programación"
      ],
      "metadata": {
        "id": "kbY6slLUkUzL"
      }
    },
    {
      "cell_type": "markdown",
      "source": [
        "**1. Definir el contexto en el que se ha recolectado la información, donde se explique\n",
        "porqué ha escogido el sitio web y el contexto para la captura de datos.**"
      ],
      "metadata": {
        "id": "ToDEC3CzGm6w"
      }
    },
    {
      "cell_type": "markdown",
      "source": [
        "Un incendio es fuego que se extiende en grandes áreas sin control alguno, se pueden generar por diferentes causas, como lo son por causas naturales que intervienen factores como la temperatura, las tormentas eléctricas y por causas antrópicas que ocurren por prácticas humanas intencionales o accidentales. En la ciudad de Cali se han presentado a través de los años incidentes de distintos tipos de incendios, que provocan daños ambientales y afectan la salud humana, es por esta razón que hemos decidido llevar a cabo un proyecto que nos permita predecir cuando ocurrirán y de este modo prevenir sus posibles y nefastas consecuencias. El contexto que hemos definido para la captura de datos es la ciudad de Cali y el sitio web del cuál se estraerá la información es la página oficial de los bomberos de la mencionada ciudad: https://bomberoscali.org/estadisticas-de-emergencia/, que nos proporciona información acerca de los incendios en los útimos 4 años (2018-2022).\n",
        "\n",
        "El sitio web que nos proporciona la información para extraer los datos a travez del Web Scraping es la pagina https://valenciaroserosant.wixsite.com/estad-sticas-de-emer. Esta nos brinda datasets tales como el tipo de incendios ocurridos y el total de incendios en los meses del año."
      ],
      "metadata": {
        "id": "BljybC8emqDp"
      }
    },
    {
      "cell_type": "markdown",
      "source": [
        "**2. Definir un título para el proyecto.**\n",
        "\n",
        "FIRE PREDICTION IN CALI"
      ],
      "metadata": {
        "id": "k1qqcQY1lPPc"
      }
    },
    {
      "cell_type": "markdown",
      "source": [
        "**3. Antecedentes**"
      ],
      "metadata": {
        "id": "TaTWHQ9jmVkA"
      }
    },
    {
      "cell_type": "markdown",
      "source": [
        "**Prediction and Modeling of Forest Fires in the Pantanal** \n",
        "\n",
        "El objetivo de este proyecto es el de utilizar los conceptos de la regresión lineal múltimple y AutoRegressive Integrated Moving Averages para establecer un modelo matemático para predecir el número de incendios en el Pantanal de Mato Grosso do Sul en Brasil tomando en cuenta las mediciones de una serie de variables meteorológicas relacionadas con los puntos de incendios y la influencia de los factores climáticos correlacionados con la probabilidad de un proceso de combustión.\n",
        "\n",
        "**GIS analysis of physical and human impact on wildfire patterns**\n",
        "\n",
        "Este artículo examina las diferencias en la distribución espacial de los incendios forestales y la vegetación en dos penínsulas del norte de Grecia con el uso de procedimientos y tecnología geoinformáticos modernos (es decir, procesamiento digital multivariado en el tiempo y el espacio). Se aplicaron modelos de regresión logística en una base de datos espacial que se ha desarrollado y gestionado dentro de un Sistema de Información Geográfica (SIG). La información cartográfica vegetativa se correlacionó estadísticamente con factores de impacto básicos (por ejemplo, geomorfología, clima, historia de incendios, uso de la tierra y actividades humanas) para estimar la tasa y magnitud de su influencia a escala de paisaje. \n",
        "\n",
        "**Referencias:**\n",
        "\n",
        "- Viganó, Hevelyne Henn da Gama et al. Previsão e Modelagem das Ocorrências de Incêndios no Pantanal. Revista Brasileira de Meteorologia [online]. 2018, v. 33, n. 2 [Acessado 15 Outubro 2022] , pp. 306-316. Disponível em: <https://doi.org/10.1590/0102-7786332012>. ISSN 1982-4351. https://doi.org/10.1590/0102-7786332012.\n",
        "\n",
        "- Kalabokidis KD, Konstantinidis P, Vasilakos C (2002) GIS analysis of physical and human impact on wildfire patterns. In Viegas X (ed.) Forest fire research & wildland fire safety. Millpress"
      ],
      "metadata": {
        "id": "Po1vonx4mjhu"
      }
    },
    {
      "cell_type": "markdown",
      "source": [
        "**4. Responder: ¿Por qué es importante y qué pregunta/problema pretende responder de los datos que se extraerán?**\n",
        "\n",
        "¿Qué meses hay mayor probabilidad a que ocurran incendios en Cali?\n",
        "\n",
        "Es importante predecir y realizar un análisis del comportamiento que pueda tener los incendios en la ciudad de Cali en determinados meses del año para tomar medidas preventivas e informativas a la comunidad, para evitar, principalmente, la pérdida humana y prevenir los daños que este pueda causar a nivel social, ambiental y económico. Para los meses en donde se manifieste la alta posibilidad de que ocurran estos incendios por sus distintas causas.\n",
        "\n"
      ],
      "metadata": {
        "id": "NYOWOktlmj3e"
      }
    },
    {
      "cell_type": "markdown",
      "source": [
        "**5. Clasificar el tipo de problema en un campo de aplicación de análisis de datos**\n",
        "\n",
        "¿QUE OCURRIRA? *Analisis predictivo*\n",
        "\n",
        "Hemos optado por llevar a cabo un análisis predictivo para lograra predecir en que meses del año es mas alta la probabilidad de que halla un incendio en la ciudad de Cali, de acuerdo con los datos obtenidos del pasado y presente en la pagina web de los bomberos de Cali, de la misma manera mostrar por medio de gráficas cuales son las caracteristicas de las actividades que llevan a cabo este tipo de problematicas en la ciudad para hacer una pequeña concientización en los factores de degradación ambiental que nos afectan actualmente."
      ],
      "metadata": {
        "id": "dWx0Cthymq4e"
      }
    },
    {
      "cell_type": "markdown",
      "source": [
        "**6. Crear el repositorio en git y usar el read me del proyecto para presentar los ítems anteriores (usar git student). Crear el respectivo notebook para el proyecto.**\n",
        "\n",
        "https://github.com/maria-clavijo/Proyecto-FIRE-PREDICTION-IN-CALI.git \n",
        "\"Repositories\"\n",
        "\n",
        "\n",
        "Notebook:\n",
        "\n",
        "https://colab.research.google.com/drive/13ZOL8frcZQ3o9CS2CQh8jHj1UIE9kyjY?usp=sharing"
      ],
      "metadata": {
        "id": "KfPmjEhomwj1"
      }
    }
  ]
}